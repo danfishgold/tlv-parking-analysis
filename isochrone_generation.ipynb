{
	"cells": [
		{
			"cell_type": "markdown",
			"metadata": {},
			"source": [
				"# Isochrones for public parking lots in Tel Aviv\n",
				"\n",
				"Created by [Dan Fishgold](https://dan.city)\n",
				"\n",
				"Based on [Elad's LRT network isochrones](https://github.com/elad661/metroTLV_walkshed)"
			]
		},
		{
			"cell_type": "code",
			"execution_count": 9,
			"metadata": {
				"tags": []
			},
			"outputs": [],
			"source": [
				"# Basic setup\n",
				"import json\n",
				"from tqdm.notebook import tqdm\n",
				"import geopandas as gpd\n",
				"import networkx as nx\n",
				"import osmnx as ox\n",
				"from shapely.geometry import LineString\n",
				"from shapely.geometry import Point\n",
				"from shapely.geometry import Polygon\n",
				"import shapely.geometry\n",
				"import sklearn\n",
				"import re\n",
				"\n",
				"ox.settings.log_console = True\n",
				"gpd.io.file.fiona.drvsupport.supported_drivers['KML'] = 'rw'"
			]
		},
		{
			"cell_type": "code",
			"execution_count": 4,
			"metadata": {},
			"outputs": [],
			"source": [
				"# configure basic parameters\n",
				" # (Download the entire metropolitian area, and then some. Too bad OSM doesn't have a relationship for the Tel Aviv Metropoliain Area)\n",
				"place = [\"Tel Aviv District, Israel\", \"Center District, Israel\"]\n",
				"network_type = \"walk\"\n",
				"trip_times = [5, 7, 10]  # in minutes\n",
				"travel_speed = 4.5  # very approximate walking speed in km/hour (real humans might walk slower or faster)"
			]
		},
		{
			"cell_type": "markdown",
			"metadata": {},
			"source": [
				"## Download and prep the street network"
			]
		},
		{
			"cell_type": "code",
			"execution_count": 5,
			"metadata": {},
			"outputs": [],
			"source": [
				"# download the street network\n",
				"graph = ox.graph_from_place(place, network_type=network_type)"
			]
		},
		{
			"cell_type": "code",
			"execution_count": 6,
			"metadata": {},
			"outputs": [],
			"source": [
				"# add an edge attribute for time in minutes required to traverse each edge\n",
				"meters_per_minute = travel_speed * 1000 / 60  # km per hour to m per minute\n",
				"for _, _, _, data in graph.edges(data=True, keys=True):\n",
				"    data[\"time\"] = data[\"length\"] / meters_per_minute"
			]
		},
		{
			"cell_type": "code",
			"execution_count": 7,
			"metadata": {},
			"outputs": [],
			"source": [
				"projected_graph = ox.project_graph(graph)"
			]
		},
		{
			"attachments": {},
			"cell_type": "markdown",
			"metadata": {},
			"source": [
				"## Load the parking lot locations\n",
				"\n",
				"From [Tel Aviv's GIS server](https://gisn.tel-aviv.gov.il/arcgis/rest/services/IView2/MapServer/556)"
			]
		},
		{
			"cell_type": "code",
			"execution_count": 33,
			"metadata": {},
			"outputs": [],
			"source": [
				"\n",
				"# crs = projected_graph.graph['crs']\n",
				"# gdf = gpd.read_file('https://gisn.tel-aviv.gov.il/arcgis/rest/services/IView2/MapServer/556/query?where=1%3D1&outFields=*&f=json').to_crs(crs)\n",
				"# gdf = gdf[gdf['achuzot'] == 'כן']"
			]
		},
		{
			"attachments": {},
			"cell_type": "markdown",
			"metadata": {},
			"source": [
				"## Alternatively: from Ahuzot Hahof"
			]
		},
		{
			"cell_type": "code",
			"execution_count": 10,
			"metadata": {},
			"outputs": [],
			"source": [
				"crs = projected_graph.graph['crs']\n",
				"gdf = gpd.read_file(\"https://www.ahuzot.co.il/map/ParkingMap.aspx?gx=1234\", driver='KML').to_crs(crs)\n",
				"gdf['id'] = gdf.apply(lambda lot: int(re.search(r'href=\"https://www.ahuzot.co.il/Parking/ParkingDetails/\\?ID=(\\d+)\"', lot.Description).group(1)), axis=1)\n",
				"gdf.set_index('id')\n",
				"del gdf['Description']"
			]
		},
		{
			"cell_type": "code",
			"execution_count": 12,
			"metadata": {},
			"outputs": [],
			"source": [
				"gdf['nearest_node'] = gdf.apply(lambda lot: ox.distance.nearest_nodes(projected_graph, lot.geometry.x, lot.geometry.y), axis=1)"
			]
		},
		{
			"cell_type": "markdown",
			"metadata": {},
			"source": [
				"## Generate the isochrones"
			]
		},
		{
			"cell_type": "code",
			"execution_count": 25,
			"metadata": {},
			"outputs": [],
			"source": [
				"# This function makes the isochrones, will be reused later\n",
				"def make_iso_polys(G, center_node, edge_buff=25, node_buff=50, infill=False):\n",
				"    isochrone_polys = {}\n",
				"    for trip_time in sorted(trip_times, reverse=True):\n",
				"        subgraph = nx.ego_graph(G, center_node, radius=trip_time, distance=\"time\")\n",
				"\n",
				"        node_points = [Point((data[\"x\"], data[\"y\"])) for node, data in subgraph.nodes(data=True)]\n",
				"        nodes_gdf = gpd.GeoDataFrame({\"id\": list(subgraph.nodes)}, geometry=node_points)\n",
				"        nodes_gdf = nodes_gdf.set_index(\"id\")\n",
				"\n",
				"        edge_lines = []\n",
				"        for n_fr, n_to in subgraph.edges():\n",
				"            f = nodes_gdf.loc[n_fr].geometry\n",
				"            t = nodes_gdf.loc[n_to].geometry\n",
				"            edge_lookup = G.get_edge_data(n_fr, n_to)[0].get(\"geometry\", LineString([f, t]))\n",
				"            edge_lines.append(edge_lookup)\n",
				"\n",
				"        n = nodes_gdf.buffer(node_buff).geometry\n",
				"        e = gpd.GeoSeries(edge_lines).buffer(edge_buff).geometry\n",
				"        all_gs = list(n) + list(e)\n",
				"        new_iso = gpd.GeoSeries(all_gs).unary_union\n",
				"\n",
				"        # try to fill in surrounded areas so shapes will appear solid and\n",
				"        # blocks without white space inside them\n",
				"        if infill and hasattr(new_iso, 'exterior'):\n",
				"            new_iso = Polygon(new_iso.exterior)\n",
				"        isochrone_polys[trip_time] = new_iso\n",
				"    return isochrone_polys\n",
				"\n",
				"def get_geojson_geometry(polygon):\n",
				"    \"\"\"Get geojson-compatible geometry, projected to a useful CRS\"\"\"\n",
				"    geometry = ox.projection.project_geometry(polygon, crs=projected_graph.graph['crs'], to_latlong=True)[0]\n",
				"    rounded_geometry = shapely.wkt.loads(shapely.wkt.dumps(geometry, rounding_precision=7))\n",
				"    return shapely.geometry.mapping(rounded_geometry)\n",
				"\n"
			]
		},
		{
			"cell_type": "code",
			"execution_count": 21,
			"metadata": {},
			"outputs": [
				{
					"data": {
						"application/vnd.jupyter.widget-view+json": {
							"model_id": "c82cf67ed55b44229cb436c08a6738be",
							"version_major": 2,
							"version_minor": 0
						},
						"text/plain": [
							"0it [00:00, ?it/s]"
						]
					},
					"metadata": {},
					"output_type": "display_data"
				}
			],
			"source": [
				"time_polys = {time: [] for time in trip_times}\n",
				"for _, lot in tqdm(gdf.iterrows()):\n",
				"    polys = make_iso_polys(projected_graph, lot['nearest_node'], edge_buff=25, node_buff=0, infill=True)\n",
				"    for time, polygon in polys.items():\n",
				"        properties = lot.to_dict()\n",
				"        del properties['geometry']\n",
				"        time_polys[time].append(dict(poly=polygon.simplify(1), properties=properties))"
			]
		},
		{
			"attachments": {},
			"cell_type": "markdown",
			"metadata": {},
			"source": [
				"## Save the isochrones"
			]
		},
		{
			"cell_type": "code",
			"execution_count": 26,
			"metadata": {},
			"outputs": [],
			"source": [
				"for time, polys in time_polys.items():\n",
				"    features = []\n",
				"    for polygon in polys:\n",
				"        properties = {'time': time, **polygon['properties']}\n",
				"        geometry = get_geojson_geometry(polygon['poly'])\n",
				"        features.append(dict(type='Feature', properties=properties, geometry=geometry))\n",
				"\n",
				"    # Save geojson\n",
				"    geojson = { \"type\": \"FeatureCollection\", \"features\": features }\n",
				"    with open(f'./parking_lot_isochrones_{time}min.geojson', 'w') as f:\n",
				"        json.dump(geojson, f)"
			]
		},
		{
			"attachments": {},
			"cell_type": "markdown",
			"metadata": {},
			"source": [
				"# Save the union of isochrones for each time"
			]
		},
		{
			"cell_type": "code",
			"execution_count": 130,
			"metadata": {},
			"outputs": [],
			"source": [
				"features = []\n",
				"for time, polys in time_polys.items():\n",
				"    union = shapely.ops.unary_union([poly['poly'] for poly in polys])\n",
				"    \n",
				"    # for poly in union.geoms:\n",
				"    #     feature = {\"type\": \"Feature\", \"properties\": { \"time\": time }, \"geometry\": get_geojson_geometry(poly.simplify(1))}\n",
				"    #     features.append(feature)\n",
				"\n",
				"    feature = {\"type\": \"Feature\", \"properties\": { \"time\": time }, \"geometry\": get_geojson_geometry(union.simplify(1))}\n",
				"    features.append(feature)\n",
				"\n",
				"geojson = { \"type\": \"FeatureCollection\", \"features\": features }\n",
				"with open('parking_lot_isochrone_unions.geojson', 'w') as f:\n",
				"    json.dump(geojson, f)"
			]
		}
	],
	"metadata": {
		"kernelspec": {
			"display_name": "venv",
			"language": "python",
			"name": "python3"
		},
		"language_info": {
			"codemirror_mode": {
				"name": "ipython",
				"version": 3
			},
			"file_extension": ".py",
			"mimetype": "text/x-python",
			"name": "python",
			"nbconvert_exporter": "python",
			"pygments_lexer": "ipython3",
			"version": "3.10.9"
		},
		"vscode": {
			"interpreter": {
				"hash": "fbb298eb98384a102098f3b16ce2674360a6a457154acbb572686c367fece67e"
			}
		}
	},
	"nbformat": 4,
	"nbformat_minor": 4
}
