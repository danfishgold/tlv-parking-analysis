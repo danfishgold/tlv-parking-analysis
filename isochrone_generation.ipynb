{
 "cells": [
  {
   "cell_type": "markdown",
   "metadata": {},
   "source": [
    "# Isochrones for public parking lots in Tel Aviv\n",
    "\n",
    "Created by [Dan Fishgold](https://dan.city)\n",
    "\n",
    "Based on [Elad's LRT network isochrones](https://github.com/elad661/metroTLV_walkshed)"
   ]
  },
  {
   "cell_type": "code",
   "execution_count": null,
   "metadata": {
    "tags": []
   },
   "outputs": [],
   "source": [
    "# Basic setup\n",
    "import json\n",
    "import pandas as pd\n",
    "from tqdm.notebook import tqdm\n",
    "import geopandas as gpd\n",
    "import networkx as nx\n",
    "import osmnx as ox\n",
    "from shapely.geometry import LineString\n",
    "from shapely.geometry import Point\n",
    "from shapely.geometry import Polygon\n",
    "import shapely.geometry\n",
    "import sklearn\n",
    "import re\n",
    "from fetch_statuses import get_lot_names\n",
    "\n",
    "ox.settings.log_console = True"
   ]
  },
  {
   "cell_type": "code",
   "execution_count": null,
   "metadata": {},
   "outputs": [],
   "source": [
    "# configure basic parameters\n",
    " # (Download the entire metropolitian area, and then some. Too bad OSM doesn't have a relationship for the Tel Aviv Metropolitan Area)\n",
    "place = [\"Tel Aviv District, Israel\", \"Center District, Israel\"]\n",
    "network_type = \"walk\"\n",
    "trip_distances = [500]  # in meters"
   ]
  },
  {
   "cell_type": "markdown",
   "metadata": {},
   "source": [
    "## Download and prep the street network"
   ]
  },
  {
   "cell_type": "code",
   "execution_count": null,
   "metadata": {},
   "outputs": [],
   "source": [
    "# download the street network\n",
    "graph = ox.graph_from_place(place, network_type=network_type)"
   ]
  },
  {
   "cell_type": "code",
   "execution_count": null,
   "metadata": {},
   "outputs": [],
   "source": [
    "projected_graph = ox.project_graph(graph)\n",
    "crs = projected_graph.graph['crs']"
   ]
  },
  {
   "cell_type": "markdown",
   "metadata": {},
   "source": [
    "## Load night lots\n",
    "\n",
    "From [Tel Aviv's GIS server](https://gisn.tel-aviv.gov.il/arcgis/rest/services/IView2/MapServer/488)"
   ]
  },
  {
   "cell_type": "code",
   "execution_count": null,
   "metadata": {},
   "outputs": [],
   "source": [
    "raw_night_lots = gpd.read_file('https://gisn.tel-aviv.gov.il/arcgis/rest/services/IView2/MapServer/488/query?where=1%3D1&outFields=*&f=json').to_crs(crs).set_index('oid')"
   ]
  },
  {
   "cell_type": "code",
   "execution_count": null,
   "metadata": {},
   "outputs": [],
   "source": [
    "night_lots = raw_night_lots\n",
    "close_to_home = 'חניון קורב לבית - חניה חינם בלילות ובסופי שבוע לבעלות ולבעלי תו חניה מתאים, הנחה ל50% או 75% לתושבות ותושבי העיר'\n",
    "paid = 'חניון בתשלום - הנחה של 50% או 75% לתשובות ותושבי העיר'\n",
    "night_lots['lot_type'] = night_lots.sug_chenyon.astype('category').map({close_to_home: 'close to home', paid: 'paid'})\n",
    "night_lots = night_lots[night_lots.lot_type.notna()].reindex(['shem', 'lot_type', 'geometry', 'ktovet', 'num_vehicles'], axis='columns')"
   ]
  },
  {
   "cell_type": "markdown",
   "metadata": {},
   "source": [
    "## Load Ahuzot Hahof lots"
   ]
  },
  {
   "cell_type": "code",
   "execution_count": null,
   "metadata": {
    "scrolled": true
   },
   "outputs": [],
   "source": [
    "try:\n",
    "    raw_ahuzot_lots = gpd.read_file(\"https://www.ahuzot.co.il/map/ParkingMap.aspx?gx=1234\", driver='KML').to_crs(crs)\n",
    "except:\n",
    "    gpd.io.file.fiona.drvsupport.supported_drivers['KML'] = 'rw'\n",
    "    raw_ahuzot_lots = gpd.read_file(\"https://www.ahuzot.co.il/map/ParkingMap.aspx?gx=1234\", driver='KML').to_crs(crs)"
   ]
  },
  {
   "cell_type": "code",
   "execution_count": null,
   "metadata": {},
   "outputs": [],
   "source": [
    "ahuzot_lots = raw_ahuzot_lots\n",
    "ahuzot_lots['id'] = ahuzot_lots.apply(lambda lot: int(re.search(r'href=\"https://www.ahuzot.co.il/Parking/ParkingDetails/\\?ID=(\\d+)\"', lot.Description).group(1)), axis=1)\n",
    "ahuzot_lots = ahuzot_lots.set_index('id')\n",
    "del ahuzot_lots['Description']"
   ]
  },
  {
   "cell_type": "code",
   "execution_count": null,
   "metadata": {},
   "outputs": [],
   "source": [
    "names = get_lot_names()\n",
    "names_with_int_index = {int(id): name for (id, name) in names.items()}\n",
    "ahuzot_lots['name'] = pd.Series(names_with_int_index)\n",
    "del ahuzot_lots['Name']"
   ]
  },
  {
   "attachments": {},
   "cell_type": "markdown",
   "metadata": {},
   "source": [
    "# Match Ahuzot Hahof lots <> Night lots\n",
    "\n",
    "I used a spatial join to match most of these, and then manually paired the rest"
   ]
  },
  {
   "cell_type": "code",
   "execution_count": null,
   "metadata": {},
   "outputs": [],
   "source": [
    "pd.set_option('display.max_rows', 500)\n",
    "joint_lots = night_lots.sjoin_nearest(ahuzot_lots, distance_col='distance', how='left', max_distance=65).reindex(['shem', 'name', 'distance', 'geometry','index_right', 'ktovet'], axis='columns').sort_values(by='distance', ascending=False)\n",
    "# joint_lots"
   ]
  },
  {
   "cell_type": "code",
   "execution_count": null,
   "metadata": {},
   "outputs": [],
   "source": [
    "lot_id_mapping = pd.Series({\n",
    "    79: 114,\n",
    "    1: 3,\n",
    "    120: 135,\n",
    "    74: 131,\n",
    "    75: 38,\n",
    "    10: 1,\n",
    "    20: 94,\n",
    "    21: 39,\n",
    "    46: 57,\n",
    "    14: 37,\n",
    "    22: 26,\n",
    "    16: 34,\n",
    "    6: 7,\n",
    "    34: 41,\n",
    "    27: 44,\n",
    "    7: 4,\n",
    "    28: 18,\n",
    "    23: 32,\n",
    "    17: 19,\n",
    "    31: 40,\n",
    "    25: 33,\n",
    "    18: 20,\n",
    "    12: 31,\n",
    "    5: 8,\n",
    "    19: 53,\n",
    "    67: 25,\n",
    "    73: 127,\n",
    "    68: 120,\n",
    "    35: 42,\n",
    "    33: 98,\n",
    "    8: 48,\n",
    "    3: 16,\n",
    "    2: 45,\n",
    "    9: 50,\n",
    "    13: 15,\n",
    "    60: 46,\n",
    "    30: 29,\n",
    "    69: 123,\n",
    "    127: 13,\n",
    "    121: 132,\n",
    "    15: 21,\n",
    "    39: 93,\n",
    "    11: 28,\n",
    "    24: 24,\n",
    "    26: 23,\n",
    "    4: 10,\n",
    "    32: 99,\n",
    "    29: 129,\n",
    "    76: 134,\n",
    "    77: 124,\n",
    "    124: None,\n",
    "    125: None,\n",
    "})\n",
    "night_lots['ahuzot_id'] = lot_id_mapping\n",
    "\n",
    "lots = night_lots.join(ahuzot_lots.reindex(['name'], axis='columns'), on='ahuzot_id').reindex(['ahuzot_id', 'shem', 'name', 'ktovet', 'lot_type', 'geometry', 'num_vehicles'], axis='columns').rename(columns={'shem': 'gis_name', 'name': 'ahuzot_name', 'ktovet': 'address', 'num_vehicles': 'lot_capacity'})\n",
    "lots"
   ]
  },
  {
   "cell_type": "code",
   "execution_count": null,
   "metadata": {},
   "outputs": [],
   "source": [
    "lots['nearest_node'] = lots.apply(lambda lot: ox.distance.nearest_nodes(projected_graph, lot.geometry.x, lot.geometry.y), axis=1)"
   ]
  },
  {
   "cell_type": "markdown",
   "metadata": {},
   "source": [
    "## Generate the isochrones"
   ]
  },
  {
   "cell_type": "code",
   "execution_count": null,
   "metadata": {},
   "outputs": [],
   "source": [
    "# This function makes the isochrones, will be reused later\n",
    "def make_iso_polys(G, center_node, edge_buff=25, node_buff=50, infill=False):\n",
    "    isochrone_polys = {}\n",
    "    for trip_distance in sorted(trip_distances, reverse=True):\n",
    "        subgraph = nx.ego_graph(G, center_node, radius=trip_distance, distance=\"length\")\n",
    "\n",
    "        node_points = [Point((data[\"x\"], data[\"y\"])) for node, data in subgraph.nodes(data=True)]\n",
    "        nodes_gdf = gpd.GeoDataFrame({\"id\": list(subgraph.nodes)}, geometry=node_points)\n",
    "        nodes_gdf = nodes_gdf.set_index(\"id\")\n",
    "\n",
    "        edge_lines = []\n",
    "        for n_fr, n_to in subgraph.edges():\n",
    "            f = nodes_gdf.loc[n_fr].geometry\n",
    "            t = nodes_gdf.loc[n_to].geometry\n",
    "            edge_lookup = G.get_edge_data(n_fr, n_to)[0].get(\"geometry\", LineString([f, t]))\n",
    "            edge_lines.append(edge_lookup)\n",
    "\n",
    "        n = nodes_gdf.buffer(node_buff).geometry\n",
    "        e = gpd.GeoSeries(edge_lines).buffer(edge_buff).geometry\n",
    "        all_gs = list(n) + list(e)\n",
    "        new_iso = gpd.GeoSeries(all_gs).unary_union\n",
    "\n",
    "        # try to fill in surrounded areas so shapes will appear solid and\n",
    "        # blocks without white space inside them\n",
    "        if infill and hasattr(new_iso, 'exterior'):\n",
    "            new_iso = Polygon(new_iso.exterior)\n",
    "        isochrone_polys[trip_distance] = new_iso\n",
    "    return isochrone_polys\n",
    "\n",
    "def get_geojson_geometry(polygon):\n",
    "    \"\"\"Get geojson-compatible geometry, projected to a useful CRS\"\"\"\n",
    "    geometry = ox.projection.project_geometry(polygon, crs=projected_graph.graph['crs'], to_latlong=True)[0]\n",
    "    rounded_geometry = shapely.wkt.loads(shapely.wkt.dumps(geometry, rounding_precision=7))\n",
    "    return shapely.geometry.mapping(rounded_geometry)\n",
    "\n"
   ]
  },
  {
   "cell_type": "code",
   "execution_count": null,
   "metadata": {},
   "outputs": [],
   "source": [
    "distance_polys = {distance: [] for distance in trip_distances}\n",
    "for lot_id, lot in tqdm(lots.iterrows(), total=lots.shape[0]):\n",
    "    polys = make_iso_polys(projected_graph, lot['nearest_node'], edge_buff=25, node_buff=0, infill=True)\n",
    "    for distance, polygon in polys.items():\n",
    "        properties = lot.replace({pd.NA: None}).to_dict()\n",
    "        lot_coordinates = ox.projection.project_geometry(properties['geometry'], crs=crs, to_latlong=True)[0]\n",
    "        properties['gis_id'] = lot_id\n",
    "        properties['lot_longitude'] = lot_coordinates.x\n",
    "        properties['lot_latitude'] = lot_coordinates.y\n",
    "        del properties['geometry']\n",
    "        distance_polys[distance].append(dict(poly=polygon.simplify(1), properties=properties))"
   ]
  },
  {
   "cell_type": "markdown",
   "metadata": {},
   "source": [
    "## Save the isochrones"
   ]
  },
  {
   "cell_type": "code",
   "execution_count": null,
   "metadata": {},
   "outputs": [],
   "source": [
    "for distance, polys in distance_polys.items():\n",
    "    features = []\n",
    "    for polygon in polys:\n",
    "        properties = {'distance': distance, **polygon['properties']}\n",
    "        geometry = get_geojson_geometry(polygon['poly'])\n",
    "        features.append(dict(type='Feature', properties=properties, geometry=geometry))\n",
    "\n",
    "    # Save geojson\n",
    "    geojson = { \"type\": \"FeatureCollection\", \"features\": features }\n",
    "    with open(f'./parking_lot_isochrones_{distance}m.geojson', 'w') as f:\n",
    "        json.dump(geojson, f, ensure_ascii=False)"
   ]
  }
 ],
 "metadata": {
  "kernelspec": {
   "display_name": "Python 3 (ipykernel)",
   "language": "python",
   "name": "python3"
  },
  "language_info": {
   "codemirror_mode": {
    "name": "ipython",
    "version": 3
   },
   "file_extension": ".py",
   "mimetype": "text/x-python",
   "name": "python",
   "nbconvert_exporter": "python",
   "pygments_lexer": "ipython3",
   "version": "3.10.9"
  },
  "vscode": {
   "interpreter": {
    "hash": "fbb298eb98384a102098f3b16ce2674360a6a457154acbb572686c367fece67e"
   }
  }
 },
 "nbformat": 4,
 "nbformat_minor": 4
}
