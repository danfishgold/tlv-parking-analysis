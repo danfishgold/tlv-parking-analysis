{
 "cells": [
  {
   "cell_type": "code",
   "execution_count": 33,
   "metadata": {},
   "outputs": [],
   "source": [
    "import pandas as pd\n",
    "import numpy as np\n",
    "from matplotlib import pyplot as plt\n",
    "import json\n"
   ]
  },
  {
   "cell_type": "code",
   "execution_count": 34,
   "metadata": {},
   "outputs": [
    {
     "data": {
      "text/html": [
       "<div>\n",
       "<style scoped>\n",
       "    .dataframe tbody tr th:only-of-type {\n",
       "        vertical-align: middle;\n",
       "    }\n",
       "\n",
       "    .dataframe tbody tr th {\n",
       "        vertical-align: top;\n",
       "    }\n",
       "\n",
       "    .dataframe thead th {\n",
       "        text-align: right;\n",
       "    }\n",
       "</style>\n",
       "<table border=\"1\" class=\"dataframe\">\n",
       "  <thead>\n",
       "    <tr style=\"text-align: right;\">\n",
       "      <th></th>\n",
       "      <th>id</th>\n",
       "      <th>status</th>\n",
       "      <th>time</th>\n",
       "    </tr>\n",
       "  </thead>\n",
       "  <tbody>\n",
       "    <tr>\n",
       "      <th>0</th>\n",
       "      <td>56</td>\n",
       "      <td>active</td>\n",
       "      <td>2023-02-02 14:30:00.796263936</td>\n",
       "    </tr>\n",
       "    <tr>\n",
       "      <th>1</th>\n",
       "      <td>64</td>\n",
       "      <td>na</td>\n",
       "      <td>2023-02-02 14:30:00.796263936</td>\n",
       "    </tr>\n",
       "    <tr>\n",
       "      <th>2</th>\n",
       "      <td>110</td>\n",
       "      <td>na</td>\n",
       "      <td>2023-02-02 14:30:00.796263936</td>\n",
       "    </tr>\n",
       "    <tr>\n",
       "      <th>3</th>\n",
       "      <td>73</td>\n",
       "      <td>na</td>\n",
       "      <td>2023-02-02 14:30:00.796263936</td>\n",
       "    </tr>\n",
       "    <tr>\n",
       "      <th>4</th>\n",
       "      <td>122</td>\n",
       "      <td>available</td>\n",
       "      <td>2023-02-02 14:30:00.796263936</td>\n",
       "    </tr>\n",
       "    <tr>\n",
       "      <th>...</th>\n",
       "      <td>...</td>\n",
       "      <td>...</td>\n",
       "      <td>...</td>\n",
       "    </tr>\n",
       "    <tr>\n",
       "      <th>21063</th>\n",
       "      <td>68</td>\n",
       "      <td>na</td>\n",
       "      <td>2023-02-07 18:00:00.362173952</td>\n",
       "    </tr>\n",
       "    <tr>\n",
       "      <th>21064</th>\n",
       "      <td>69</td>\n",
       "      <td>na</td>\n",
       "      <td>2023-02-07 18:00:00.362173952</td>\n",
       "    </tr>\n",
       "    <tr>\n",
       "      <th>21065</th>\n",
       "      <td>42</td>\n",
       "      <td>active</td>\n",
       "      <td>2023-02-07 18:00:00.362173952</td>\n",
       "    </tr>\n",
       "    <tr>\n",
       "      <th>21066</th>\n",
       "      <td>84</td>\n",
       "      <td>na</td>\n",
       "      <td>2023-02-07 18:00:00.362173952</td>\n",
       "    </tr>\n",
       "    <tr>\n",
       "      <th>21067</th>\n",
       "      <td>45</td>\n",
       "      <td>active</td>\n",
       "      <td>2023-02-07 18:00:00.362173952</td>\n",
       "    </tr>\n",
       "  </tbody>\n",
       "</table>\n",
       "<p>21068 rows × 3 columns</p>\n",
       "</div>"
      ],
      "text/plain": [
       "        id     status                          time\n",
       "0       56     active 2023-02-02 14:30:00.796263936\n",
       "1       64         na 2023-02-02 14:30:00.796263936\n",
       "2      110         na 2023-02-02 14:30:00.796263936\n",
       "3       73         na 2023-02-02 14:30:00.796263936\n",
       "4      122  available 2023-02-02 14:30:00.796263936\n",
       "...    ...        ...                           ...\n",
       "21063   68         na 2023-02-07 18:00:00.362173952\n",
       "21064   69         na 2023-02-07 18:00:00.362173952\n",
       "21065   42     active 2023-02-07 18:00:00.362173952\n",
       "21066   84         na 2023-02-07 18:00:00.362173952\n",
       "21067   45     active 2023-02-07 18:00:00.362173952\n",
       "\n",
       "[21068 rows x 3 columns]"
      ]
     },
     "execution_count": 34,
     "metadata": {},
     "output_type": "execute_result"
    }
   ],
   "source": [
    "df = pd.read_csv('lot_records.csv')\n",
    "df['time'] = pd.to_datetime(df['time'], unit='s') #.dt.round('30min')\n",
    "del df['nice_time']\n",
    "df"
   ]
  },
  {
   "cell_type": "code",
   "execution_count": 35,
   "metadata": {},
   "outputs": [],
   "source": [
    "df2 = pd.pivot(df, index='id', columns='time').status\n",
    "no_status = ((df2 == 'na' )).all(axis='columns')\n",
    "just_active = ((df2 == 'active' )).all(axis='columns')\n",
    "lot_ids_without_status = set(df2[no_status | just_active].index)"
   ]
  },
  {
   "cell_type": "code",
   "execution_count": 36,
   "metadata": {},
   "outputs": [],
   "source": [
    "\n",
    "\n",
    "# df2 = df2[~no_status & ~just_active]\n",
    "\n",
    "time_columns = df2.columns\n",
    "\n",
    "df2['grade'] = df2.apply(lambda row: row.map(dict(available=0, few=0.8, full=1, na=0, active=0)).sum(), axis='columns')\n",
    "df2 = df2.sort_values(by=['grade'], ascending=False)\n",
    "\n",
    "name_df = pd.read_csv('lot_names.csv', index_col=0)\n",
    "df2['name'] = name_df['name']\n",
    "\n",
    "df2 = df2.reindex(['name', 'grade'] + list(time_columns), axis='columns')"
   ]
  },
  {
   "cell_type": "code",
   "execution_count": 37,
   "metadata": {},
   "outputs": [
    {
     "data": {
      "image/png": "[encoded data removed]",
      "text/plain": [
       "<Figure size 640x480 with 1 Axes>"
      ]
     },
     "metadata": {},
     "output_type": "display_data"
    }
   ],
   "source": [
    "\n",
    "numeric_data = df2.drop(['grade', 'name'], axis='columns').applymap(lambda x: {'available':0, 'few': 0.8, 'full': 2, 'na': -1, 'active': -1}[x]).to_numpy()\n",
    "plt.imshow(numeric_data)\n",
    "plt.show()"
   ]
  },
  {
   "cell_type": "code",
   "execution_count": 32,
   "metadata": {},
   "outputs": [],
   "source": [
    "nice_json_dict = dict()\n",
    "for column in df2:\n",
    "    if column in ['grade', 'name']:\n",
    "        continue\n",
    "    key = column.isoformat()\n",
    "    values = df2[column].to_dict()\n",
    "    nice_json_dict[key] = values\n",
    "\n",
    "with open('parsed_lot_records.json', 'w')  as f:\n",
    "    json.dump(nice_json_dict, f)\n",
    "\n"
   ]
  },
  {
   "cell_type": "code",
   "execution_count": null,
   "metadata": {},
   "outputs": [],
   "source": []
  }
 ],
 "metadata": {
  "kernelspec": {
   "display_name": "venv",
   "language": "python",
   "name": "python3"
  },
  "language_info": {
   "codemirror_mode": {
    "name": "ipython",
    "version": 3
   },
   "file_extension": ".py",
   "mimetype": "text/x-python",
   "name": "python",
   "nbconvert_exporter": "python",
   "pygments_lexer": "ipython3",
   "version": "3.10.9"
  },
  "orig_nbformat": 4,
  "vscode": {
   "interpreter": {
    "hash": "fbb298eb98384a102098f3b16ce2674360a6a457154acbb572686c367fece67e"
   }
  }
 },
 "nbformat": 4,
 "nbformat_minor": 2
}
