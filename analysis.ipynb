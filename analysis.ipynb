{
 "cells": [
  {
   "cell_type": "code",
   "execution_count": null,
   "metadata": {},
   "outputs": [],
   "source": [
    "import pandas as pd\n",
    "import numpy as np\n",
    "from matplotlib import pyplot as plt\n",
    "import json\n",
    "from fetch_statuses import get_lot_names"
   ]
  },
  {
   "cell_type": "code",
   "execution_count": null,
   "metadata": {},
   "outputs": [],
   "source": [
    "with open('./lotRecords.json') as f:\n",
    "    records = json.load(f)\n",
    "flat_records = [dict(time=time, id=lot_id, status=status) for (time, lots) in records.items() for (lot_id, status) in lots.items()]\n",
    "df = pd.DataFrame(flat_records)\n",
    "df['time'] = pd.to_datetime(df['time'], unit='s').dt.round('30min')\n",
    "df"
   ]
  },
  {
   "cell_type": "code",
   "execution_count": null,
   "metadata": {},
   "outputs": [],
   "source": [
    "names = pd.Series(get_lot_names())\n",
    "names"
   ]
  },
  {
   "cell_type": "code",
   "execution_count": null,
   "metadata": {},
   "outputs": [],
   "source": [
    "df2 = pd.pivot(df, index='id', columns='time').status\n",
    "no_status = ((df2 == 'na' )).all(axis='columns')\n",
    "just_active = ((df2 == 'active' )).all(axis='columns')\n",
    "lot_ids_without_status = set(df2[no_status | just_active].index)"
   ]
  },
  {
   "cell_type": "code",
   "execution_count": null,
   "metadata": {},
   "outputs": [],
   "source": [
    "\n",
    "\n",
    "# df2 = df2[~no_status & ~just_active]\n",
    "\n",
    "time_columns = df2.columns\n",
    "\n",
    "df2['grade'] = df2.apply(lambda row: row.map(dict(available=0, few=0.8, full=1, na=0, active=0)).sum(), axis='columns')\n",
    "df2 = df2.sort_values(by=['grade'], ascending=False)\n",
    "df2['name'] = names\n",
    "df2 = df2.reindex(['name', 'grade'] + list(time_columns), axis='columns')"
   ]
  },
  {
   "cell_type": "code",
   "execution_count": null,
   "metadata": {},
   "outputs": [],
   "source": [
    "\n",
    "numeric_data = df2.drop(['grade', 'name'], axis='columns').applymap(lambda x: {'available':0, 'few': 0.8, 'full': 2, 'na': -1, 'active': -1, 'closed': -1}[x]).to_numpy()\n",
    "plt.imshow(numeric_data)\n",
    "plt.show()"
   ]
  },
  {
   "cell_type": "code",
   "execution_count": null,
   "metadata": {},
   "outputs": [],
   "source": [
    "nice_json_dict = dict()\n",
    "for column in df2:\n",
    "    if column in ['grade', 'name']:\n",
    "        continue\n",
    "    key = column.isoformat()\n",
    "    values = df2[column].to_dict()\n",
    "    nice_json_dict[key] = values\n",
    "\n",
    "with open('parsed_lot_records.json', 'w')  as f:\n",
    "    json.dump(nice_json_dict, f)\n",
    "\n"
   ]
  },
  {
   "cell_type": "code",
   "execution_count": null,
   "metadata": {},
   "outputs": [],
   "source": []
  }
 ],
 "metadata": {
  "kernelspec": {
   "display_name": "venv",
   "language": "python",
   "name": "python3"
  },
  "language_info": {
   "codemirror_mode": {
    "name": "ipython",
    "version": 3
   },
   "file_extension": ".py",
   "mimetype": "text/x-python",
   "name": "python",
   "nbconvert_exporter": "python",
   "pygments_lexer": "ipython3",
   "version": "3.10.9"
  },
  "orig_nbformat": 4,
  "vscode": {
   "interpreter": {
    "hash": "fbb298eb98384a102098f3b16ce2674360a6a457154acbb572686c367fece67e"
   }
  }
 },
 "nbformat": 4,
 "nbformat_minor": 2
}
