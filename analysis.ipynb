{
 "cells": [
  {
   "cell_type": "code",
   "execution_count": 1,
   "metadata": {},
   "outputs": [],
   "source": [
    "import pandas as pd\n",
    "import numpy as np\n",
    "from matplotlib import pyplot as plt\n",
    "import json\n",
    "from fetch_statuses import get_lot_names"
   ]
  },
  {
   "cell_type": "code",
   "execution_count": 2,
   "metadata": {},
   "outputs": [
    {
     "data": {
      "text/html": [
       "<div>\n",
       "<style scoped>\n",
       "    .dataframe tbody tr th:only-of-type {\n",
       "        vertical-align: middle;\n",
       "    }\n",
       "\n",
       "    .dataframe tbody tr th {\n",
       "        vertical-align: top;\n",
       "    }\n",
       "\n",
       "    .dataframe thead th {\n",
       "        text-align: right;\n",
       "    }\n",
       "</style>\n",
       "<table border=\"1\" class=\"dataframe\">\n",
       "  <thead>\n",
       "    <tr style=\"text-align: right;\">\n",
       "      <th></th>\n",
       "      <th>time</th>\n",
       "      <th>id</th>\n",
       "      <th>status</th>\n",
       "    </tr>\n",
       "  </thead>\n",
       "  <tbody>\n",
       "    <tr>\n",
       "      <th>0</th>\n",
       "      <td>2023-04-15 17:00:00</td>\n",
       "      <td>99</td>\n",
       "      <td>available</td>\n",
       "    </tr>\n",
       "    <tr>\n",
       "      <th>1</th>\n",
       "      <td>2023-04-15 17:00:00</td>\n",
       "      <td>16</td>\n",
       "      <td>available</td>\n",
       "    </tr>\n",
       "    <tr>\n",
       "      <th>2</th>\n",
       "      <td>2023-04-15 17:00:00</td>\n",
       "      <td>94</td>\n",
       "      <td>closed</td>\n",
       "    </tr>\n",
       "    <tr>\n",
       "      <th>3</th>\n",
       "      <td>2023-04-15 17:00:00</td>\n",
       "      <td>45</td>\n",
       "      <td>full</td>\n",
       "    </tr>\n",
       "    <tr>\n",
       "      <th>4</th>\n",
       "      <td>2023-04-15 17:00:00</td>\n",
       "      <td>24</td>\n",
       "      <td>available</td>\n",
       "    </tr>\n",
       "    <tr>\n",
       "      <th>...</th>\n",
       "      <td>...</td>\n",
       "      <td>...</td>\n",
       "      <td>...</td>\n",
       "    </tr>\n",
       "    <tr>\n",
       "      <th>17806</th>\n",
       "      <td>2023-04-19 18:30:00</td>\n",
       "      <td>44</td>\n",
       "      <td>available</td>\n",
       "    </tr>\n",
       "    <tr>\n",
       "      <th>17807</th>\n",
       "      <td>2023-04-19 18:30:00</td>\n",
       "      <td>33</td>\n",
       "      <td>available</td>\n",
       "    </tr>\n",
       "    <tr>\n",
       "      <th>17808</th>\n",
       "      <td>2023-04-19 18:30:00</td>\n",
       "      <td>45</td>\n",
       "      <td>full</td>\n",
       "    </tr>\n",
       "    <tr>\n",
       "      <th>17809</th>\n",
       "      <td>2023-04-19 18:30:00</td>\n",
       "      <td>23</td>\n",
       "      <td>available</td>\n",
       "    </tr>\n",
       "    <tr>\n",
       "      <th>17810</th>\n",
       "      <td>2023-04-19 18:30:00</td>\n",
       "      <td>127</td>\n",
       "      <td>available</td>\n",
       "    </tr>\n",
       "  </tbody>\n",
       "</table>\n",
       "<p>17811 rows × 3 columns</p>\n",
       "</div>"
      ],
      "text/plain": [
       "                     time   id     status\n",
       "0     2023-04-15 17:00:00   99  available\n",
       "1     2023-04-15 17:00:00   16  available\n",
       "2     2023-04-15 17:00:00   94     closed\n",
       "3     2023-04-15 17:00:00   45       full\n",
       "4     2023-04-15 17:00:00   24  available\n",
       "...                   ...  ...        ...\n",
       "17806 2023-04-19 18:30:00   44  available\n",
       "17807 2023-04-19 18:30:00   33  available\n",
       "17808 2023-04-19 18:30:00   45       full\n",
       "17809 2023-04-19 18:30:00   23  available\n",
       "17810 2023-04-19 18:30:00  127  available\n",
       "\n",
       "[17811 rows x 3 columns]"
      ]
     },
     "execution_count": 2,
     "metadata": {},
     "output_type": "execute_result"
    }
   ],
   "source": [
    "with open('./lotRecords.json') as f:\n",
    "    records = json.load(f)\n",
    "flat_records = [dict(time=time, id=lot_id, status=status) for (time, lots) in records.items() for (lot_id, status) in lots.items()]\n",
    "df = pd.DataFrame(flat_records)\n",
    "df['time'] = pd.to_datetime(df['time'], unit='s').dt.round('30min')\n",
    "df"
   ]
  },
  {
   "cell_type": "code",
   "execution_count": 3,
   "metadata": {},
   "outputs": [
    {
     "data": {
      "text/plain": [
       "56      חניון אבולעפיה\n",
       "64       חניון אחימאיר\n",
       "110         חניון אלוף\n",
       "73         חניון אלפסי\n",
       "122        חניון אסותא\n",
       "            ...       \n",
       "68        חניון רפידים\n",
       "69       חניון שלונסקי\n",
       "42         חניון שרתון\n",
       "84       חניון תל ברוך\n",
       "45     חניון תל-נורדאו\n",
       "Length: 90, dtype: object"
      ]
     },
     "execution_count": 3,
     "metadata": {},
     "output_type": "execute_result"
    }
   ],
   "source": [
    "names = pd.Series(get_lot_names())\n",
    "names"
   ]
  },
  {
   "cell_type": "code",
   "execution_count": 4,
   "metadata": {},
   "outputs": [],
   "source": [
    "night_lot_ids = map(str, [\n",
    "    114,\n",
    "    3,\n",
    "    135,\n",
    "    131,\n",
    "    38,\n",
    "    1,\n",
    "    94,\n",
    "    39,\n",
    "    57,\n",
    "    37,\n",
    "    26,\n",
    "    34,\n",
    "    7,\n",
    "    41,\n",
    "    44,\n",
    "    4,\n",
    "    18,\n",
    "    32,\n",
    "    19,\n",
    "    40,\n",
    "    33,\n",
    "    20,\n",
    "    31,\n",
    "    8,\n",
    "    53,\n",
    "    25,\n",
    "    127,\n",
    "    120,\n",
    "    42,\n",
    "    98,\n",
    "    48,\n",
    "    16,\n",
    "    45,\n",
    "    50,\n",
    "    15,\n",
    "    46,\n",
    "    29,\n",
    "    123,\n",
    "    13,\n",
    "    132,\n",
    "    21,\n",
    "    93,\n",
    "    28,\n",
    "    24,\n",
    "    23,\n",
    "    10,\n",
    "    99,\n",
    "    129,\n",
    "    134,\n",
    "    124,\n",
    "])"
   ]
  },
  {
   "cell_type": "code",
   "execution_count": 5,
   "metadata": {},
   "outputs": [],
   "source": [
    "df2 = pd.pivot(df, index='id', columns='time').status\n",
    "time_columns = df2.columns\n",
    "df2 = df2.loc[night_lot_ids]\n",
    "df2['name'] = names"
   ]
  },
  {
   "cell_type": "code",
   "execution_count": 6,
   "metadata": {},
   "outputs": [],
   "source": [
    "\n",
    "\n",
    "df2['grade'] = df2.apply(lambda row: row.map(dict(available=0, few=0.8, full=1, na=-2, active=-1, closed=-0.2)).sum(), axis='columns')\n",
    "df2 = df2.sort_values(by='grade', ascending=False).drop(['grade'], axis='columns')"
   ]
  },
  {
   "cell_type": "code",
   "execution_count": 7,
   "metadata": {},
   "outputs": [
    {
     "data": {
      "image/png": "[encoded data removed]",
      "text/plain": [
       "<Figure size 640x480 with 1 Axes>"
      ]
     },
     "metadata": {},
     "output_type": "display_data"
    }
   ],
   "source": [
    "\n",
    "numeric_data = df2.reindex(list(time_columns), axis='columns').applymap(lambda x: {'available':0, 'few': 0.8, 'full': 2, 'na': -1, 'active': -1, 'closed': -0.5}[x]).to_numpy()\n",
    "plt.imshow(numeric_data)\n",
    "plt.show()"
   ]
  }
 ],
 "metadata": {
  "kernelspec": {
   "display_name": "venv",
   "language": "python",
   "name": "python3"
  },
  "language_info": {
   "codemirror_mode": {
    "name": "ipython",
    "version": 3
   },
   "file_extension": ".py",
   "mimetype": "text/x-python",
   "name": "python",
   "nbconvert_exporter": "python",
   "pygments_lexer": "ipython3",
   "version": "3.10.9"
  },
  "orig_nbformat": 4,
  "vscode": {
   "interpreter": {
    "hash": "fbb298eb98384a102098f3b16ce2674360a6a457154acbb572686c367fece67e"
   }
  }
 },
 "nbformat": 4,
 "nbformat_minor": 2
}
