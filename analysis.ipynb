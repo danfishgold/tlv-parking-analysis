{
 "cells": [
  {
   "cell_type": "code",
   "execution_count": 2,
   "metadata": {},
   "outputs": [],
   "source": [
    "import pandas as pd\n",
    "import numpy as np\n",
    "from matplotlib import pyplot as plt\n",
    "import json\n"
   ]
  },
  {
   "cell_type": "code",
   "execution_count": 16,
   "metadata": {},
   "outputs": [
    {
     "data": {
      "text/html": [
       "<div>\n",
       "<style scoped>\n",
       "    .dataframe tbody tr th:only-of-type {\n",
       "        vertical-align: middle;\n",
       "    }\n",
       "\n",
       "    .dataframe tbody tr th {\n",
       "        vertical-align: top;\n",
       "    }\n",
       "\n",
       "    .dataframe thead th {\n",
       "        text-align: right;\n",
       "    }\n",
       "</style>\n",
       "<table border=\"1\" class=\"dataframe\">\n",
       "  <thead>\n",
       "    <tr style=\"text-align: right;\">\n",
       "      <th></th>\n",
       "      <th>time</th>\n",
       "      <th>id</th>\n",
       "      <th>status</th>\n",
       "    </tr>\n",
       "  </thead>\n",
       "  <tbody>\n",
       "    <tr>\n",
       "      <th>0</th>\n",
       "      <td>2023-04-15 17:00:00</td>\n",
       "      <td>99</td>\n",
       "      <td>available</td>\n",
       "    </tr>\n",
       "    <tr>\n",
       "      <th>1</th>\n",
       "      <td>2023-04-15 17:00:00</td>\n",
       "      <td>16</td>\n",
       "      <td>available</td>\n",
       "    </tr>\n",
       "    <tr>\n",
       "      <th>2</th>\n",
       "      <td>2023-04-15 17:00:00</td>\n",
       "      <td>94</td>\n",
       "      <td>/pics/ParkingIcons/sagur.png</td>\n",
       "    </tr>\n",
       "    <tr>\n",
       "      <th>3</th>\n",
       "      <td>2023-04-15 17:00:00</td>\n",
       "      <td>45</td>\n",
       "      <td>full</td>\n",
       "    </tr>\n",
       "    <tr>\n",
       "      <th>4</th>\n",
       "      <td>2023-04-15 17:00:00</td>\n",
       "      <td>24</td>\n",
       "      <td>available</td>\n",
       "    </tr>\n",
       "    <tr>\n",
       "      <th>...</th>\n",
       "      <td>...</td>\n",
       "      <td>...</td>\n",
       "      <td>...</td>\n",
       "    </tr>\n",
       "    <tr>\n",
       "      <th>9368</th>\n",
       "      <td>2023-04-17 20:00:00</td>\n",
       "      <td>69</td>\n",
       "      <td>na</td>\n",
       "    </tr>\n",
       "    <tr>\n",
       "      <th>9369</th>\n",
       "      <td>2023-04-17 20:00:00</td>\n",
       "      <td>56</td>\n",
       "      <td>active</td>\n",
       "    </tr>\n",
       "    <tr>\n",
       "      <th>9370</th>\n",
       "      <td>2023-04-17 20:00:00</td>\n",
       "      <td>132</td>\n",
       "      <td>na</td>\n",
       "    </tr>\n",
       "    <tr>\n",
       "      <th>9371</th>\n",
       "      <td>2023-04-17 20:00:00</td>\n",
       "      <td>88</td>\n",
       "      <td>na</td>\n",
       "    </tr>\n",
       "    <tr>\n",
       "      <th>9372</th>\n",
       "      <td>2023-04-17 20:00:00</td>\n",
       "      <td>19</td>\n",
       "      <td>active</td>\n",
       "    </tr>\n",
       "  </tbody>\n",
       "</table>\n",
       "<p>9373 rows × 3 columns</p>\n",
       "</div>"
      ],
      "text/plain": [
       "                    time   id                        status\n",
       "0    2023-04-15 17:00:00   99                     available\n",
       "1    2023-04-15 17:00:00   16                     available\n",
       "2    2023-04-15 17:00:00   94  /pics/ParkingIcons/sagur.png\n",
       "3    2023-04-15 17:00:00   45                          full\n",
       "4    2023-04-15 17:00:00   24                     available\n",
       "...                  ...  ...                           ...\n",
       "9368 2023-04-17 20:00:00   69                            na\n",
       "9369 2023-04-17 20:00:00   56                        active\n",
       "9370 2023-04-17 20:00:00  132                            na\n",
       "9371 2023-04-17 20:00:00   88                            na\n",
       "9372 2023-04-17 20:00:00   19                        active\n",
       "\n",
       "[9373 rows x 3 columns]"
      ]
     },
     "execution_count": 16,
     "metadata": {},
     "output_type": "execute_result"
    }
   ],
   "source": [
    "with open('./lotRecords.json') as f:\n",
    "    records = json.load(f)\n",
    "flat_records = [dict(time=time, id=lot_id, status=status) for (time, lots) in records.items() for (lot_id, status) in lots.items()]\n",
    "df = pd.DataFrame(flat_records)\n",
    "df['time'] = pd.to_datetime(df['time'], unit='s').dt.round('30min')\n",
    "df"
   ]
  },
  {
   "cell_type": "code",
   "execution_count": 17,
   "metadata": {},
   "outputs": [
    {
     "data": {
      "text/plain": [
       "56      חניון אבולעפיה\n",
       "64       חניון אחימאיר\n",
       "110         חניון אלוף\n",
       "73         חניון אלפסי\n",
       "122        חניון אסותא\n",
       "            ...       \n",
       "68        חניון רפידים\n",
       "69       חניון שלונסקי\n",
       "42         חניון שרתון\n",
       "84       חניון תל ברוך\n",
       "45     חניון תל-נורדאו\n",
       "Length: 91, dtype: object"
      ]
     },
     "execution_count": 17,
     "metadata": {},
     "output_type": "execute_result"
    }
   ],
   "source": [
    "names = pd.read_json('./lotNames.json', typ='series')\n",
    "names"
   ]
  },
  {
   "cell_type": "code",
   "execution_count": 18,
   "metadata": {},
   "outputs": [],
   "source": [
    "df2 = pd.pivot(df, index='id', columns='time').status\n",
    "no_status = ((df2 == 'na' )).all(axis='columns')\n",
    "just_active = ((df2 == 'active' )).all(axis='columns')\n",
    "lot_ids_without_status = set(df2[no_status | just_active].index)"
   ]
  },
  {
   "cell_type": "code",
   "execution_count": 21,
   "metadata": {},
   "outputs": [],
   "source": [
    "\n",
    "\n",
    "# df2 = df2[~no_status & ~just_active]\n",
    "\n",
    "time_columns = df2.columns\n",
    "\n",
    "df2['grade'] = df2.apply(lambda row: row.map(dict(available=0, few=0.8, full=1, na=0, active=0)).sum(), axis='columns')\n",
    "df2 = df2.sort_values(by=['grade'], ascending=False)\n",
    "df2['name'] = names\n",
    "df2 = df2.reindex(['name', 'grade'] + list(time_columns), axis='columns')"
   ]
  },
  {
   "cell_type": "code",
   "execution_count": 24,
   "metadata": {},
   "outputs": [
    {
     "data": {
      "image/png": "[encoded data removed]",
      "text/plain": [
       "<Figure size 640x480 with 1 Axes>"
      ]
     },
     "metadata": {},
     "output_type": "display_data"
    }
   ],
   "source": [
    "\n",
    "numeric_data = df2.drop(['grade', 'name'], axis='columns').applymap(lambda x: {'available':0, 'few': 0.8, 'full': 2, 'na': -1, 'active': -1, 'closed': -1}[x]).to_numpy()\n",
    "plt.imshow(numeric_data)\n",
    "plt.show()"
   ]
  },
  {
   "cell_type": "code",
   "execution_count": 32,
   "metadata": {},
   "outputs": [],
   "source": [
    "nice_json_dict = dict()\n",
    "for column in df2:\n",
    "    if column in ['grade', 'name']:\n",
    "        continue\n",
    "    key = column.isoformat()\n",
    "    values = df2[column].to_dict()\n",
    "    nice_json_dict[key] = values\n",
    "\n",
    "with open('parsed_lot_records.json', 'w')  as f:\n",
    "    json.dump(nice_json_dict, f)\n",
    "\n"
   ]
  },
  {
   "cell_type": "code",
   "execution_count": null,
   "metadata": {},
   "outputs": [],
   "source": []
  }
 ],
 "metadata": {
  "kernelspec": {
   "display_name": "venv",
   "language": "python",
   "name": "python3"
  },
  "language_info": {
   "codemirror_mode": {
    "name": "ipython",
    "version": 3
   },
   "file_extension": ".py",
   "mimetype": "text/x-python",
   "name": "python",
   "nbconvert_exporter": "python",
   "pygments_lexer": "ipython3",
   "version": "3.10.9"
  },
  "orig_nbformat": 4,
  "vscode": {
   "interpreter": {
    "hash": "fbb298eb98384a102098f3b16ce2674360a6a457154acbb572686c367fece67e"
   }
  }
 },
 "nbformat": 4,
 "nbformat_minor": 2
}
